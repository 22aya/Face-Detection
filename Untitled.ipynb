{
 "cells": [
  {
   "cell_type": "code",
   "execution_count": null,
   "id": "af896a5f",
   "metadata": {},
   "outputs": [],
   "source": [
    "import numpy as np \n",
    "import cv2 as cv\n",
    "import os "
   ]
  },
  {
   "cell_type": "code",
   "execution_count": null,
   "id": "3e2c63d8",
   "metadata": {},
   "outputs": [],
   "source": [
    "#os.chdir(r\"E:/download/project/face detecation\")\n",
    "import cv2 \n",
    "cap =cv2.VideoCapture(0)\n",
    "\n",
    "\n",
    "face_cascade =cv2.CascadeClassifier(\"haarcascade_frontalface_default.xml\")\n",
    "eyes_cascade =cv2.CascadeClassifier(\"haarcascade_eye.xml\")\n",
    "\n"
   ]
  },
  {
   "cell_type": "code",
   "execution_count": null,
   "id": "ed44deaa",
   "metadata": {
    "scrolled": true
   },
   "outputs": [],
   "source": [
    " face_cascade =cv2.CascadeClassifier(\"haarcascade_frontalface_default.xml\")\n",
    "eyes_cascade =cv2.CascadeClassifier(\"haarcascade_eye.xml\")\n",
    "\n",
    "\n",
    "    \n",
    "while(cap.isOpened()):\n",
    "    ret ,frame =cap.read()\n",
    "    \n",
    "    gray =cv2.cvtColor(frame,cv2.COLOR_BGR2GRAY)\n",
    "    \n",
    "    faces =face_cascade.detectMultiScale(gray ,1.3 , 4)\n",
    "    for (x,y,h,w) in faces :\n",
    "        cv2.rectangle(frame ,(x,y),(x+w ,y+h),(0,255,0),3)       \n",
    "        roi_gray=gray[y:y+h ,x:x+w]       \n",
    "        roi_color=frame[y:y+h ,x:x+w]       \n",
    "        eyes =eyes_cascade.detectMultiScale(roi_gray)       \n",
    "        for(ex,ey,eh,ew) in eyes :      \n",
    "            cv2.rectangle(roi_color ,(ex,ey),(ex+ew ,ey+eh),(0,0,255),3)            \n",
    "  \n",
    "    \n",
    "    cv2.imshow(\"frame\" ,frame)\n",
    "    \n",
    "    key =cv2.waitKey(1)\n",
    "    \n",
    "    if(key == 27):\n",
    "        break \n",
    "        \n",
    "cap.release()\n",
    "cv2.destroyAllWindows()\n",
    "\n"
   ]
  },
  {
   "cell_type": "code",
   "execution_count": null,
   "id": "b3b08a91",
   "metadata": {},
   "outputs": [],
   "source": [
    "import numpy as np\n",
    "import cv2 as cv\n",
    "face_cascade = cv.CascadeClassifier('haarcascade_frontalface_default.xml')\n",
    "eye_cascade = cv.CascadeClassifier('haarcascade_eye.xml')\n",
    "img = cv.imread('opencv_tutorial_load_image.jpg')\n",
    "gray = cv.cvtColor(img, cv.COLOR_BGR2GRAY)"
   ]
  },
  {
   "cell_type": "code",
   "execution_count": null,
   "id": "963224fb",
   "metadata": {},
   "outputs": [],
   "source": [
    "faces = face_cascade.detectMultiScale(gray, 1.3, 5)\n",
    "for (x,y,w,h) in faces:\n",
    "    cv.rectangle(img,(x,y),(x+w,y+h),(255,0,0),2)\n",
    "    roi_gray = gray[y:y+h, x:x+w]\n",
    "    roi_color = img[y:y+h, x:x+w]\n",
    "    eyes = eye_cascade.detectMultiScale(roi_gray)\n",
    "for (ex,ey,ew,eh) in eyes:\n",
    "    cv.rectangle(roi_color,(ex,ey),(ex+ew,ey+eh),(0,255,0),2)\n",
    "cv.imshow('img',img)\n",
    "cv.waitKey(0)\n",
    "cv.destroyAllWindows()"
   ]
  },
  {
   "cell_type": "code",
   "execution_count": null,
   "id": "83e39679",
   "metadata": {},
   "outputs": [],
   "source": []
  }
 ],
 "metadata": {
  "kernelspec": {
   "display_name": "Python 3 (ipykernel)",
   "language": "python",
   "name": "python3"
  },
  "language_info": {
   "codemirror_mode": {
    "name": "ipython",
    "version": 3
   },
   "file_extension": ".py",
   "mimetype": "text/x-python",
   "name": "python",
   "nbconvert_exporter": "python",
   "pygments_lexer": "ipython3",
   "version": "3.9.13"
  }
 },
 "nbformat": 4,
 "nbformat_minor": 5
}
